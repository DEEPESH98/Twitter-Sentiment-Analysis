{
  "nbformat": 4,
  "nbformat_minor": 0,
  "metadata": {
    "colab": {
      "name": "Untitled50.ipynb",
      "provenance": []
    },
    "kernelspec": {
      "name": "python3",
      "display_name": "Python 3"
    }
  },
  "cells": [
    {
      "cell_type": "code",
      "metadata": {
        "id": "ZuzhCXyDJEf_",
        "colab_type": "code",
        "colab": {}
      },
      "source": [
        "import tweepy\n",
        "import matplotlib.pyplot as plt\n",
        "from  textblob import TextBlob \n",
        "import time"
      ],
      "execution_count": 3,
      "outputs": []
    },
    {
      "cell_type": "code",
      "metadata": {
        "id": "DeBsK3BLI1X5",
        "colab_type": "code",
        "colab": {}
      },
      "source": [
        "# all 4 authentication keys to access twitter API\n",
        "# to connect as OAth handler or jump serever / revers proxy server\n",
        "consumer_key = \"8AO6OU5ubyi4XO47b1C7Sjdlz\"\n",
        "consumer_sec = \"FS1usPrfPolvjLXbwGka5N8TWkOZhUsdxGmmTwuO016koesUSt\"\n",
        "\n",
        "# from proxy server we need to connect\n",
        "access_token = \"1151573806680592384-OUFeUtpsRFZM6jQxl1AG99NEjlY0Kt\"\n",
        "access_token_sec = \"KKHmkHkDGVaDof8XK4fKKI52DmNl4vZlaXnx85WRfd4Lr\"\n"
      ],
      "execution_count": 4,
      "outputs": []
    },
    {
      "cell_type": "code",
      "metadata": {
        "id": "sJWQZUDoMMFU",
        "colab_type": "code",
        "colab": {
          "base_uri": "https://localhost:8080/",
          "height": 756
        },
        "outputId": "771ef926-785f-441d-e2dd-e2fe9b746ee8"
      },
      "source": [
        "# tweepy explore\n",
        "dir(tweepy)"
      ],
      "execution_count": 5,
      "outputs": [
        {
          "output_type": "execute_result",
          "data": {
            "text/plain": [
              "['API',\n",
              " 'AppAuthHandler',\n",
              " 'Cache',\n",
              " 'Category',\n",
              " 'Cursor',\n",
              " 'DirectMessage',\n",
              " 'FileCache',\n",
              " 'Friendship',\n",
              " 'MemoryCache',\n",
              " 'ModelFactory',\n",
              " 'OAuthHandler',\n",
              " 'RateLimitError',\n",
              " 'SavedSearch',\n",
              " 'SearchResults',\n",
              " 'Status',\n",
              " 'Stream',\n",
              " 'StreamListener',\n",
              " 'TweepError',\n",
              " 'User',\n",
              " '__author__',\n",
              " '__builtins__',\n",
              " '__cached__',\n",
              " '__doc__',\n",
              " '__file__',\n",
              " '__license__',\n",
              " '__loader__',\n",
              " '__name__',\n",
              " '__package__',\n",
              " '__path__',\n",
              " '__spec__',\n",
              " '__version__',\n",
              " 'api',\n",
              " 'auth',\n",
              " 'binder',\n",
              " 'cache',\n",
              " 'cursor',\n",
              " 'debug',\n",
              " 'error',\n",
              " 'models',\n",
              " 'parsers',\n",
              " 'streaming',\n",
              " 'utils']"
            ]
          },
          "metadata": {
            "tags": []
          },
          "execution_count": 5
        }
      ]
    },
    {
      "cell_type": "code",
      "metadata": {
        "id": "8zLkwJdoOeBQ",
        "colab_type": "code",
        "colab": {}
      },
      "source": [
        "# connected to jump server of twitter\n",
        "auth=tweepy.OAuthHandler(consumer_key,consumer_sec)"
      ],
      "execution_count": 6,
      "outputs": []
    },
    {
      "cell_type": "code",
      "metadata": {
        "id": "Txf28H4CO76C",
        "colab_type": "code",
        "colab": {}
      },
      "source": [
        "# now we can connect from jump server to web server of twitter\n",
        "auth.set_access_token(access_token,access_token_sec)"
      ],
      "execution_count": 7,
      "outputs": []
    },
    {
      "cell_type": "code",
      "metadata": {
        "id": "kSx0EjJDPPKY",
        "colab_type": "code",
        "colab": {}
      },
      "source": [
        "# now we can connect to API storge server of twitter\n",
        "api_connect=tweepy.API(auth)"
      ],
      "execution_count": 8,
      "outputs": []
    },
    {
      "cell_type": "code",
      "metadata": {
        "id": "lB7agrsuPckx",
        "colab_type": "code",
        "colab": {}
      },
      "source": [
        "# now you can search any topic on twitter\n",
        "tweet_data=api_connect.search('India',count=100)"
      ],
      "execution_count": 11,
      "outputs": []
    },
    {
      "cell_type": "code",
      "metadata": {
        "id": "CPboqiqWPoYt",
        "colab_type": "code",
        "colab": {
          "base_uri": "https://localhost:8080/",
          "height": 1000
        },
        "outputId": "3bf9633a-4d52-4cd4-e0f8-1beb4abee69b"
      },
      "source": [
        "pos=0\n",
        "neg=0\n",
        "neu=0\n",
        "\n",
        "# printing line by line\n",
        "for tweet in tweet_data:\n",
        "   #print(tweet.text)\n",
        "   analysis=TextBlob(tweet.text) # here it will apply NLP\\\n",
        "   print(analysis.sentiment)\n",
        "   # now checking polarity only\n",
        "   if analysis.sentiment.polarity > 0:\n",
        "      print(\"posative\")\n",
        "      pos=pos+1\n",
        "   elif analysis.sentiment.polarity == 0 :\n",
        "      print(\"Neutral\")\n",
        "      neu=neu+1\n",
        "   else :\n",
        "      print(\"Negative\")\n",
        "      neg=neg+1\n",
        "      \n",
        "# ploting graphs\n",
        "plt.xlabel(\"tags\")\n",
        "plt.ylabel(\"polarity\")\n",
        "#plt.bar(['pos','neg','neu'],[pos,neg,neu])\n",
        "plt.pie([pos,neg,neu],labels=['pos','neg','neu'],autopct=\"%1.1f%%\")\n",
        "plt.show()"
      ],
      "execution_count": 12,
      "outputs": [
        {
          "output_type": "stream",
          "text": [
            "Sentiment(polarity=0.2, subjectivity=0.5)\n",
            "posative\n",
            "Sentiment(polarity=0.0, subjectivity=0.0)\n",
            "Neutral\n",
            "Sentiment(polarity=0.0, subjectivity=0.0)\n",
            "Neutral\n",
            "Sentiment(polarity=0.0, subjectivity=0.0)\n",
            "Neutral\n",
            "Sentiment(polarity=0.0, subjectivity=0.0)\n",
            "Neutral\n",
            "Sentiment(polarity=0.5, subjectivity=0.5)\n",
            "posative\n",
            "Sentiment(polarity=0.0, subjectivity=0.0)\n",
            "Neutral\n",
            "Sentiment(polarity=0.0, subjectivity=0.0)\n",
            "Neutral\n",
            "Sentiment(polarity=0.4, subjectivity=0.5)\n",
            "posative\n",
            "Sentiment(polarity=-0.6, subjectivity=0.8)\n",
            "Negative\n",
            "Sentiment(polarity=0.0, subjectivity=0.0)\n",
            "Neutral\n",
            "Sentiment(polarity=0.13636363636363635, subjectivity=0.5)\n",
            "posative\n",
            "Sentiment(polarity=0.5, subjectivity=0.5)\n",
            "posative\n",
            "Sentiment(polarity=0.75, subjectivity=0.8500000000000001)\n",
            "posative\n",
            "Sentiment(polarity=0.0, subjectivity=0.0)\n",
            "Neutral\n",
            "Sentiment(polarity=0.0, subjectivity=0.0)\n",
            "Neutral\n",
            "Sentiment(polarity=0.0, subjectivity=0.0)\n",
            "Neutral\n",
            "Sentiment(polarity=0.42083333333333334, subjectivity=0.7708333333333334)\n",
            "posative\n",
            "Sentiment(polarity=0.0, subjectivity=0.0)\n",
            "Neutral\n",
            "Sentiment(polarity=0.0, subjectivity=0.0)\n",
            "Neutral\n",
            "Sentiment(polarity=0.0, subjectivity=0.0)\n",
            "Neutral\n",
            "Sentiment(polarity=0.0, subjectivity=0.0)\n",
            "Neutral\n",
            "Sentiment(polarity=-0.21666666666666667, subjectivity=0.8666666666666667)\n",
            "Negative\n",
            "Sentiment(polarity=0.0, subjectivity=0.325)\n",
            "Neutral\n",
            "Sentiment(polarity=0.0, subjectivity=0.0)\n",
            "Neutral\n",
            "Sentiment(polarity=-0.08333333333333333, subjectivity=0.16666666666666666)\n",
            "Negative\n",
            "Sentiment(polarity=0.15833333333333333, subjectivity=0.5916666666666667)\n",
            "posative\n",
            "Sentiment(polarity=0.0, subjectivity=0.0)\n",
            "Neutral\n",
            "Sentiment(polarity=0.0, subjectivity=0.0)\n",
            "Neutral\n",
            "Sentiment(polarity=0.75, subjectivity=0.8500000000000001)\n",
            "posative\n",
            "Sentiment(polarity=0.0, subjectivity=0.0)\n",
            "Neutral\n",
            "Sentiment(polarity=-0.05, subjectivity=0.05)\n",
            "Negative\n",
            "Sentiment(polarity=0.4, subjectivity=0.5)\n",
            "posative\n",
            "Sentiment(polarity=0.0, subjectivity=0.0)\n",
            "Neutral\n",
            "Sentiment(polarity=0.0, subjectivity=0.0)\n",
            "Neutral\n",
            "Sentiment(polarity=0.125, subjectivity=0.125)\n",
            "posative\n",
            "Sentiment(polarity=0.0, subjectivity=0.1)\n",
            "Neutral\n",
            "Sentiment(polarity=0.0, subjectivity=0.0)\n",
            "Neutral\n",
            "Sentiment(polarity=0.0, subjectivity=0.0)\n",
            "Neutral\n",
            "Sentiment(polarity=0.0, subjectivity=1.0)\n",
            "Neutral\n",
            "Sentiment(polarity=-0.25625, subjectivity=0.46875)\n",
            "Negative\n",
            "Sentiment(polarity=0.0, subjectivity=0.0)\n",
            "Neutral\n",
            "Sentiment(polarity=0.06666666666666667, subjectivity=0.4222222222222222)\n",
            "posative\n",
            "Sentiment(polarity=0.5, subjectivity=0.5)\n",
            "posative\n",
            "Sentiment(polarity=0.0, subjectivity=0.0)\n",
            "Neutral\n",
            "Sentiment(polarity=0.0, subjectivity=0.0)\n",
            "Neutral\n",
            "Sentiment(polarity=0.0, subjectivity=0.0)\n",
            "Neutral\n",
            "Sentiment(polarity=0.0, subjectivity=0.0)\n",
            "Neutral\n",
            "Sentiment(polarity=-0.4, subjectivity=0.6)\n",
            "Negative\n",
            "Sentiment(polarity=0.0, subjectivity=0.0)\n",
            "Neutral\n",
            "Sentiment(polarity=0.0, subjectivity=0.0)\n",
            "Neutral\n",
            "Sentiment(polarity=0.0, subjectivity=0.0)\n",
            "Neutral\n",
            "Sentiment(polarity=0.0, subjectivity=0.0)\n",
            "Neutral\n",
            "Sentiment(polarity=0.0, subjectivity=0.0)\n",
            "Neutral\n",
            "Sentiment(polarity=0.0, subjectivity=0.06666666666666667)\n",
            "Neutral\n",
            "Sentiment(polarity=-0.25625, subjectivity=0.46875)\n",
            "Negative\n",
            "Sentiment(polarity=0.0, subjectivity=0.0)\n",
            "Neutral\n",
            "Sentiment(polarity=0.0, subjectivity=0.0)\n",
            "Neutral\n",
            "Sentiment(polarity=0.06666666666666667, subjectivity=0.4222222222222222)\n",
            "posative\n",
            "Sentiment(polarity=0.2, subjectivity=0.3)\n",
            "posative\n",
            "Sentiment(polarity=0.625, subjectivity=0.5)\n",
            "posative\n",
            "Sentiment(polarity=0.0, subjectivity=0.0)\n",
            "Neutral\n",
            "Sentiment(polarity=0.0, subjectivity=0.0)\n",
            "Neutral\n",
            "Sentiment(polarity=0.0, subjectivity=0.1)\n",
            "Neutral\n",
            "Sentiment(polarity=0.22, subjectivity=0.5133333333333333)\n",
            "posative\n",
            "Sentiment(polarity=0.5, subjectivity=0.5)\n",
            "posative\n",
            "Sentiment(polarity=0.2, subjectivity=0.3)\n",
            "posative\n",
            "Sentiment(polarity=0.038392857142857145, subjectivity=0.24107142857142858)\n",
            "posative\n",
            "Sentiment(polarity=0.0, subjectivity=0.16666666666666666)\n",
            "Neutral\n",
            "Sentiment(polarity=0.0, subjectivity=0.0)\n",
            "Neutral\n",
            "Sentiment(polarity=0.13636363636363635, subjectivity=0.45454545454545453)\n",
            "posative\n",
            "Sentiment(polarity=0.0, subjectivity=0.0)\n",
            "Neutral\n",
            "Sentiment(polarity=-0.20833333333333334, subjectivity=0.3666666666666667)\n",
            "Negative\n",
            "Sentiment(polarity=0.35, subjectivity=0.55)\n",
            "posative\n",
            "Sentiment(polarity=0.5, subjectivity=1.0)\n",
            "posative\n",
            "Sentiment(polarity=0.5, subjectivity=0.5)\n",
            "posative\n",
            "Sentiment(polarity=-0.0625, subjectivity=0.6875)\n",
            "Negative\n",
            "Sentiment(polarity=0.0, subjectivity=0.0)\n",
            "Neutral\n",
            "Sentiment(polarity=0.75, subjectivity=0.8500000000000001)\n",
            "posative\n",
            "Sentiment(polarity=0.0, subjectivity=0.05)\n",
            "Neutral\n",
            "Sentiment(polarity=0.11666666666666665, subjectivity=0.7000000000000001)\n",
            "posative\n",
            "Sentiment(polarity=0.5, subjectivity=0.5)\n",
            "posative\n",
            "Sentiment(polarity=-0.5, subjectivity=1.0)\n",
            "Negative\n",
            "Sentiment(polarity=-0.25625, subjectivity=0.46875)\n",
            "Negative\n",
            "Sentiment(polarity=0.0, subjectivity=0.0)\n",
            "Neutral\n",
            "Sentiment(polarity=0.0, subjectivity=0.0)\n",
            "Neutral\n",
            "Sentiment(polarity=0.4000000000000001, subjectivity=0.9)\n",
            "posative\n",
            "Sentiment(polarity=0.0, subjectivity=0.0)\n",
            "Neutral\n",
            "Sentiment(polarity=-0.6, subjectivity=0.9)\n",
            "Negative\n",
            "Sentiment(polarity=0.5, subjectivity=0.5)\n",
            "posative\n",
            "Sentiment(polarity=0.0, subjectivity=0.0)\n",
            "Neutral\n",
            "Sentiment(polarity=0.0, subjectivity=0.0)\n",
            "Neutral\n",
            "Sentiment(polarity=0.4, subjectivity=0.5)\n",
            "posative\n",
            "Sentiment(polarity=-0.2916666666666667, subjectivity=0.5416666666666666)\n",
            "Negative\n",
            "Sentiment(polarity=-0.075, subjectivity=0.1)\n",
            "Negative\n",
            "Sentiment(polarity=0.2857142857142857, subjectivity=0.5357142857142857)\n",
            "posative\n",
            "Sentiment(polarity=0.2857142857142857, subjectivity=0.5357142857142857)\n",
            "posative\n",
            "Sentiment(polarity=0.3, subjectivity=0.4)\n",
            "posative\n",
            "Sentiment(polarity=-0.3333333333333333, subjectivity=1.0)\n",
            "Negative\n",
            "Sentiment(polarity=0.0, subjectivity=0.0)\n",
            "Neutral\n"
          ],
          "name": "stdout"
        },
        {
          "output_type": "display_data",
          "data": {
            "image/png": "[encoded data removed]",
            "text/plain": [
              "<Figure size 432x288 with 1 Axes>"
            ]
          },
          "metadata": {
            "tags": []
          }
        }
      ]
    },
    {
      "cell_type": "code",
      "metadata": {
        "id": "3xUmbslpQVmr",
        "colab_type": "code",
        "colab": {}
      },
      "source": [
        ""
      ],
      "execution_count": null,
      "outputs": []
    }
  ]
}